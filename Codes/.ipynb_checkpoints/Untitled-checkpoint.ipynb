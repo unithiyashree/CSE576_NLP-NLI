{
 "cells": [
  {
   "cell_type": "code",
   "execution_count": null,
   "metadata": {},
   "outputs": [],
   "source": [
    "import json\n",
    "\n",
    "def readData(filename):\n",
    "    data = []\n",
    "    premise = []\n",
    "    hypothesis = []\n",
    "    sentence_type = []\n",
    "    with open(filename) as json_file:\n",
    "        data = json_file.read()\n",
    "        data = data.split(\"\\n\")\n",
    "    print(data)\n",
    "    for i in range(0,len(data)):\n",
    "        json_obj = json.loads(str(data[i]))\n",
    "        premise.append((json_obj['sentence1']))\n",
    "        hypothesis.append(json_obj['sentence2'])\n",
    "        sentence_type.append(json_obj['gold_label'])\n",
    "    return premise,hypothesis,sentence_type\n",
    "\n",
    "premise,hypothesis,sentence_type = readData('./train.jsonl')\n",
    "print(premise)"
   ]
  }
 ],
 "metadata": {
  "kernelspec": {
   "display_name": "Python 3",
   "language": "python",
   "name": "python3"
  },
  "language_info": {
   "codemirror_mode": {
    "name": "ipython",
    "version": 3
   },
   "file_extension": ".py",
   "mimetype": "text/x-python",
   "name": "python",
   "nbconvert_exporter": "python",
   "pygments_lexer": "ipython3",
   "version": "3.6.8"
  }
 },
 "nbformat": 4,
 "nbformat_minor": 2
}
